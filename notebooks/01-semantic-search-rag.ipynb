{
 "cells": [
  {
   "cell_type": "markdown",
   "id": "fe3d1bd3cb7874cc",
   "metadata": {
    "collapsed": false,
    "jupyter": {
     "outputs_hidden": false
    }
   },
   "source": [
    "# Semantic search based RAG\n",
    "\n",
    "We are going to use LlamaIndex to build a basic RAG pipeline that will use one of the open source embedding models. Then, we will consider different optimizations to either improve the performance or reduce the cost of the pipeline.\n"
   ]
  },
  {
   "cell_type": "markdown",
   "id": "23e281aaf592e306",
   "metadata": {
    "collapsed": false,
    "jupyter": {
     "outputs_hidden": false
    }
   },
   "source": [
    "## Loading the configuration\n",
    "\n",
    "Before we start, all the configuration is loaded from the `.env` file we created in the previous notebook."
   ]
  },
  {
   "cell_type": "code",
   "execution_count": 4,
   "id": "initial_id",
   "metadata": {},
   "outputs": [
    {
     "data": {
      "text/plain": [
       "True"
      ]
     },
     "execution_count": 4,
     "metadata": {},
     "output_type": "execute_result"
    }
   ],
   "source": [
    "from dotenv import load_dotenv\n",
    "\n",
    "load_dotenv()"
   ]
  },
  {
   "cell_type": "markdown",
   "id": "45e4dd797cbe142a",
   "metadata": {
    "collapsed": false,
    "jupyter": {
     "outputs_hidden": false
    }
   },
   "source": [
    "## Basic RAG setup\n",
    "\n",
    "We will be using one of the open source embedding models to vectorize our document (actually, the snapshots we imported in the previous notebook were generated using the same model, so we need to use it for queries as well). OpenAI GPT will be our LLM, and it is the default model for LlamaIndex, so there is no need to configure it explicitly.\n",
    "\n",
    "The vector index, which will act as a fast retrieval layer, is the last missing piece to build our basic semantic search RAG. Qdrant will serve that purpose, as all the documents are already there."
   ]
  },
  {
   "cell_type": "code",
   "execution_count": 5,
   "id": "ceecec79071db759",
   "metadata": {
    "collapsed": false,
    "jupyter": {
     "outputs_hidden": false
    }
   },
   "outputs": [
    {
     "data": {
      "application/vnd.jupyter.widget-view+json": {
       "model_id": "e65bc554cf224cd68582d9a55dfc5a97",
       "version_major": 2,
       "version_minor": 0
      },
      "text/plain": [
       "config.json:   0%|          | 0.00/720 [00:00<?, ?B/s]"
      ]
     },
     "metadata": {},
     "output_type": "display_data"
    },
    {
     "data": {
      "application/vnd.jupyter.widget-view+json": {
       "model_id": "5b7653fd5edb460690df4a9d4d128cdd",
       "version_major": 2,
       "version_minor": 0
      },
      "text/plain": [
       "model.safetensors:   0%|          | 0.00/1.34G [00:00<?, ?B/s]"
      ]
     },
     "metadata": {},
     "output_type": "display_data"
    },
    {
     "data": {
      "application/vnd.jupyter.widget-view+json": {
       "model_id": "6002186f6004489dbd4c6ac10351dea1",
       "version_major": 2,
       "version_minor": 0
      },
      "text/plain": [
       "tokenizer_config.json:   0%|          | 0.00/366 [00:00<?, ?B/s]"
      ]
     },
     "metadata": {},
     "output_type": "display_data"
    },
    {
     "data": {
      "application/vnd.jupyter.widget-view+json": {
       "model_id": "d23be79b7d564c60877ff2592a3385ff",
       "version_major": 2,
       "version_minor": 0
      },
      "text/plain": [
       "vocab.txt:   0%|          | 0.00/232k [00:00<?, ?B/s]"
      ]
     },
     "metadata": {},
     "output_type": "display_data"
    },
    {
     "data": {
      "application/vnd.jupyter.widget-view+json": {
       "model_id": "edfb7568bcf54e29877cd02a93563c97",
       "version_major": 2,
       "version_minor": 0
      },
      "text/plain": [
       "tokenizer.json:   0%|          | 0.00/711k [00:00<?, ?B/s]"
      ]
     },
     "metadata": {},
     "output_type": "display_data"
    },
    {
     "data": {
      "application/vnd.jupyter.widget-view+json": {
       "model_id": "245b2a7a8b2c4e8db560b58e9c5ec84b",
       "version_major": 2,
       "version_minor": 0
      },
      "text/plain": [
       "special_tokens_map.json:   0%|          | 0.00/125 [00:00<?, ?B/s]"
      ]
     },
     "metadata": {},
     "output_type": "display_data"
    }
   ],
   "source": [
    "from llama_index import ServiceContext\n",
    "\n",
    "service_context = ServiceContext.from_defaults(\n",
    "    embed_model=\"local:BAAI/bge-large-en\"\n",
    ")"
   ]
  },
  {
   "cell_type": "code",
   "execution_count": 8,
   "id": "ef2c13ee4a83a508",
   "metadata": {
    "collapsed": false,
    "jupyter": {
     "outputs_hidden": false
    }
   },
   "outputs": [],
   "source": [
    "from qdrant_client import QdrantClient\n",
    "from llama_index.vector_stores.qdrant import QdrantVectorStore\n",
    "\n",
    "import os\n",
    "\n",
    "client = QdrantClient(\n",
    "    os.environ.get(\"QDRANT_URL\"), \n",
    "    # api_key=os.environ.get(\"QDRANT_API_KEY\"),\n",
    ")\n",
    "vector_store = QdrantVectorStore(\n",
    "    client=client, \n",
    "    collection_name=\"hacker-news\"\n",
    ")"
   ]
  },
  {
   "cell_type": "code",
   "execution_count": 9,
   "id": "2dca3d121903e207",
   "metadata": {
    "collapsed": false,
    "jupyter": {
     "outputs_hidden": false
    }
   },
   "outputs": [],
   "source": [
    "from llama_index import VectorStoreIndex\n",
    "\n",
    "index = VectorStoreIndex.from_vector_store(\n",
    "    vector_store=vector_store,\n",
    "    service_context=service_context,\n",
    ")"
   ]
  },
  {
   "cell_type": "markdown",
   "id": "c1f73a5b0023dae8",
   "metadata": {
    "collapsed": false,
    "jupyter": {
     "outputs_hidden": false
    }
   },
   "source": [
    "### Querying RAG\n",
    "\n",
    "LlamaIndex simplifies the querying process by providing a high-level API that abstracts the underlying complexity. We can use the `as_query_engine` method to create a query engine that will handle the entire process for us, with the default configuration."
   ]
  },
  {
   "cell_type": "code",
   "execution_count": 10,
   "id": "3b10b5aec9a9aeb1",
   "metadata": {
    "collapsed": false,
    "jupyter": {
     "outputs_hidden": false
    }
   },
   "outputs": [
    {
     "name": "stderr",
     "output_type": "stream",
     "text": [
      "huggingface/tokenizers: The current process just got forked, after parallelism has already been used. Disabling parallelism to avoid deadlocks...\n",
      "To disable this warning, you can either:\n",
      "\t- Avoid using `tokenizers` before the fork if possible\n",
      "\t- Explicitly set the environment variable TOKENIZERS_PARALLELISM=(true | false)\n"
     ]
    },
    {
     "name": "stdout",
     "output_type": "stream",
     "text": [
      "The best way to learn programming is to jump in and start working on real projects that interest you. Find a problem to solve or a project to build, such as an audio amplifier, Arduino robot, or experimenting with GPIO on a Raspberry Pi. Engaging in hands-on projects will help you understand how programming works in real-life scenarios and how to build things properly. Additionally, exploring resources like the Hackaday website can provide you with ideas and inspiration for your programming journey.\n"
     ]
    }
   ],
   "source": [
    "query_engine = index.as_query_engine()\n",
    "response = query_engine.query(\"What is the best way to learn programming?\")\n",
    "print(response.response)"
   ]
  },
  {
   "cell_type": "markdown",
   "id": "f7ce6484a8eaac59",
   "metadata": {
    "collapsed": false,
    "jupyter": {
     "outputs_hidden": false
    }
   },
   "source": [
    "Our RAG retrieves some possibly relevant documents by using the original prompt as a query, and then sends them as a part of the prompt to the LLM. It seems to be a good idea to check what were these documents, and if our LLM was not making up the answer using its internal knowledge."
   ]
  },
  {
   "cell_type": "code",
   "execution_count": 12,
   "id": "a62a2fb53edaa8c1",
   "metadata": {
    "collapsed": false,
    "jupyter": {
     "outputs_hidden": false
    }
   },
   "outputs": [
    {
     "name": "stdout",
     "output_type": "stream",
     "text": [
      "1 Ask HN: What is the best way to get into building electronics as a programmer?\n",
      "\n",
      "I am asking not only about learning what is taught in classes for solving ideal problems. I am talking about the real engineering like a hobbyist who actually understands what works in real life and how to build it properly.\n",
      "\n",
      "Assuming you&#x27;re interested in embedded software (pure electronics is it&#x27;s own thing):<p>Unless you&#x27;re already a competent C++ developer, I would start with getting either an ESP8266 or ESP32 and making some simple projects in Arduino IDE by stitching libraries together. You can do a lot with various sensors, actuators, and a bit of simple glue code. Getting outside that simplified Arduino world requires additional learning curves so have fun there first if you can.<p>I&#x27;m a full stack developer and I code in many languages but I haven&#x27;t had to do any low level C++ code in a while and I&#x27;m finding that my biggest hurdle as I&#x27;m getting into a complicated embedded project where there aren&#x27;t libraries for what I&#x27;m trying to do.<p>Of course there are frameworks for programming ESPs in Lua, Micro Python, and JavaScript (Espruino) but those have their own learning curves and limited available libraries too.\n",
      "\n",
      "2 Ask HN: What is the best way to get into building electronics as a programmer?\n",
      "\n",
      "I am asking not only about learning what is taught in classes for solving ideal problems. I am talking about the real engineering like a hobbyist who actually understands what works in real life and how to build it properly.\n",
      "\n",
      "&quot;Best&quot; depends on who you are. I suggest just jumping in and starting. Find a real problem and build something to address it. Make yourself an audio amplifier or Arduino robot. Start fiddling with blinkylight GPIO on a raspberry pi. Build a one wheel skateboard.<p>you might find ideas here:  <a href=\"https:&#x2F;&#x2F;hackaday.com&#x2F;blog&#x2F;\" rel=\"nofollow\">https:&#x2F;&#x2F;hackaday.com&#x2F;blog&#x2F;</a>\n",
      "\n"
     ]
    }
   ],
   "source": [
    "for i, node in enumerate(response.source_nodes):\n",
    "    print(i + 1, node.text, end=\"\\n\\n\")"
   ]
  },
  {
   "cell_type": "code",
   "execution_count": null,
   "id": "84d0127d-14b3-4683-84cd-aaecd76d69bf",
   "metadata": {},
   "outputs": [],
   "source": []
  },
  {
   "cell_type": "markdown",
   "id": "a392c560d622699d",
   "metadata": {
    "collapsed": false,
    "jupyter": {
     "outputs_hidden": false
    }
   },
   "source": [
    "The first tweak we can consider is to increase the number of documents fetched from our knowledge base (the default of LlamaIndex is just 2). We can do that by setting the `similarity_top_k` parameter of the `as_query_engine` method."
   ]
  },
  {
   "cell_type": "code",
   "execution_count": 13,
   "id": "e456cefe13dde93c",
   "metadata": {
    "collapsed": false,
    "jupyter": {
     "outputs_hidden": false
    }
   },
   "outputs": [
    {
     "name": "stdout",
     "output_type": "stream",
     "text": [
      "The best way to learn programming is to start by jumping in and actually doing it. Find a real problem to solve or a project to work on. By actively engaging in programming and hands-on projects, you can gain practical experience and understanding of how to write code effectively. Learning by doing, even if it means starting with simple projects, is a valuable approach to mastering programming skills.\n"
     ]
    }
   ],
   "source": [
    "response = index \\\n",
    "    .as_query_engine(similarity_top_k=5) \\\n",
    "    .query(\"What is the best way to learn programming?\")\n",
    "print(response.response)"
   ]
  },
  {
   "cell_type": "code",
   "execution_count": 14,
   "id": "c72f6f232be4b89",
   "metadata": {
    "collapsed": false,
    "jupyter": {
     "outputs_hidden": false
    }
   },
   "outputs": [
    {
     "name": "stdout",
     "output_type": "stream",
     "text": [
      "1 Ask HN: What is the best way to get into building electronics as a programmer?\n",
      "\n",
      "I am asking not only about learning what is taught in classes for solving ideal problems. I am talking about the real engineering like a hobbyist who actually understands what works in real life and how to build it properly.\n",
      "\n",
      "Assuming you&#x27;re interested in embedded software (pure electronics is it&#x27;s own thing):<p>Unless you&#x27;re already a competent C++ developer, I would start with getting either an ESP8266 or ESP32 and making some simple projects in Arduino IDE by stitching libraries together. You can do a lot with various sensors, actuators, and a bit of simple glue code. Getting outside that simplified Arduino world requires additional learning curves so have fun there first if you can.<p>I&#x27;m a full stack developer and I code in many languages but I haven&#x27;t had to do any low level C++ code in a while and I&#x27;m finding that my biggest hurdle as I&#x27;m getting into a complicated embedded project where there aren&#x27;t libraries for what I&#x27;m trying to do.<p>Of course there are frameworks for programming ESPs in Lua, Micro Python, and JavaScript (Espruino) but those have their own learning curves and limited available libraries too.\n",
      "\n",
      "2 Ask HN: What is the best way to get into building electronics as a programmer?\n",
      "\n",
      "I am asking not only about learning what is taught in classes for solving ideal problems. I am talking about the real engineering like a hobbyist who actually understands what works in real life and how to build it properly.\n",
      "\n",
      "&quot;Best&quot; depends on who you are. I suggest just jumping in and starting. Find a real problem and build something to address it. Make yourself an audio amplifier or Arduino robot. Start fiddling with blinkylight GPIO on a raspberry pi. Build a one wheel skateboard.<p>you might find ideas here:  <a href=\"https:&#x2F;&#x2F;hackaday.com&#x2F;blog&#x2F;\" rel=\"nofollow\">https:&#x2F;&#x2F;hackaday.com&#x2F;blog&#x2F;</a>\n",
      "\n",
      "3 Ask HN: What is the best way to get into building electronics as a programmer?\n",
      "\n",
      "I am asking not only about learning what is taught in classes for solving ideal problems. I am talking about the real engineering like a hobbyist who actually understands what works in real life and how to build it properly.\n",
      "\n",
      "Doing the thing is the only way to get into doing things.<p>An old Radio Shack Science Fair  N-in-One kit (for N between 25 and 300) is a way that might work because they are hands on and were designed for beginners.<p>Wanting a best way to do a thing is a way of avoiding the hard reality that you will be bad at the thing when you start. So a soldering iron and a willingness to suck is another reasonable  way to start electronics…irrespective of whether  a software engineer or seamstress.<p>Anyway, doing things badly is the only way to learn how to do them well. The only way to keepiuppi 100 times is to start struggling to keepiuppi twice and then thrice and all other 99 steps.<p>Good luck.\n",
      "\n",
      "4 Ask HN: Do you know a good course or book to learn CS basics for teens?\n",
      "\n",
      "A teen relative of mine is interested in computer science and wants to explore this path before going to college.<p>I need to recommend an overall learning experience for him that is appropriate for his age (around 16) and want him to understand the basics without getting too deep in math or algorithms, so he can get a good view of the field and understand the basics.<p>Have you came across a simple course, book or learning platform (preferably free) appropriate for beginners?<p>Thanks!\n",
      "\n",
      "On edx:<p>How to Code: Simple Data<p>How to Code: Complex Data<p>There is also a book at <a href=\"https:&#x2F;&#x2F;htdp.org\" rel=\"nofollow\">https:&#x2F;&#x2F;htdp.org</a>\n",
      "\n",
      "5 Ask HN: How to Learn Cloud Development?\n",
      "\n",
      "I’m a graphics programmer who wants to move to cloud development. What’s the fastest way to get skilled up on writing and deploying secure services to CSPs to create large-scale, distributed applications?<p>I know words like k8s, containers, helm charts and have a high-level idea about what all these mean, but don’t know where to start learning how to actually implement and deploy any of this stuff.<p>Are there any good online courses, or up-to-date books you recommend to learn?\n",
      "\n",
      "While it doesn&#x27;t deal directly with cloud development, &quot;Designing Data Intensive Applications&quot; covers much of what you are interested in learning about such as large-scale or distributed applications.<p>&quot;Kubernetes up and Running&quot; covers the basics of what Kubernetes is and how to use it.  Within the first few chapters you should be able to use what you have learned to deploy an application to an inexpensive hosting provider like DigitalOcean.<p>The best way to learn is to learn by doing.  After those books that&#x27;s what I recommend.\n",
      "\n"
     ]
    }
   ],
   "source": [
    "for i, node in enumerate(response.source_nodes):\n",
    "    print(i + 1, node.text, end=\"\\n\\n\")"
   ]
  },
  {
   "cell_type": "markdown",
   "id": "a59904fb28cfe369",
   "metadata": {
    "collapsed": false,
    "jupyter": {
     "outputs_hidden": false
    }
   },
   "source": [
    "## Customizing the RAG pipeline\n",
    "\n",
    "The defaults of LlamaIndex are a good starting point, but we can customize the pipeline to better fit our needs. That gives us more control over the behavior of the semantic search retriever or the way we interact with the LLM. LlamaIndex has pretty decent support for customizing the pipeline and there are three components that we need to set up:\n",
    "\n",
    "1. Retriever\n",
    "2. Response synthesizer\n",
    "3. Query engine"
   ]
  },
  {
   "cell_type": "code",
   "execution_count": 15,
   "id": "b73b609cef8b1916",
   "metadata": {
    "collapsed": false,
    "jupyter": {
     "outputs_hidden": false
    }
   },
   "outputs": [],
   "source": [
    "from llama_index.query_engine import RetrieverQueryEngine\n",
    "from llama_index import get_response_synthesizer\n",
    "from llama_index.indices.vector_store import VectorIndexRetriever\n",
    "\n",
    "retriever = VectorIndexRetriever(\n",
    "    index=index,\n",
    "    similarity_top_k=5,\n",
    ")\n",
    "\n",
    "response_synthesizer = get_response_synthesizer()\n",
    "\n",
    "query_engine = RetrieverQueryEngine(\n",
    "    retriever=retriever,\n",
    "    response_synthesizer=response_synthesizer,\n",
    ")"
   ]
  },
  {
   "cell_type": "code",
   "execution_count": 16,
   "id": "59ff323f5dc019ed",
   "metadata": {
    "collapsed": false,
    "jupyter": {
     "outputs_hidden": false
    }
   },
   "outputs": [
    {
     "name": "stdout",
     "output_type": "stream",
     "text": [
      "The best way to learn programming is to start by jumping in and actually doing it. Find a real problem to solve and build something to address it. Engaging in hands-on projects, such as creating an audio amplifier, building an Arduino robot, or experimenting with GPIO on a Raspberry Pi, can be a great way to learn programming effectively. Additionally, exploring resources like online courses, books, and learning platforms tailored to beginners can provide structured guidance and help in understanding the basics of programming.\n"
     ]
    }
   ],
   "source": [
    "response = query_engine.query(\"What is the best way to learn programming?\")\n",
    "print(response.response)"
   ]
  },
  {
   "cell_type": "markdown",
   "id": "98b489a71360ffa2",
   "metadata": {
    "collapsed": false,
    "jupyter": {
     "outputs_hidden": false
    }
   },
   "source": [
    "## Playing with response synthesizers\n",
    "\n",
    "Response synthesizers are responsible for interactions with the LLM. This a component we want to control, when it comes to prompts and the way we actually communicate with the language model. There are lots of parameters to tweak, and prompt engineering is a topic of its own. Thus, we won't play with it too, but we can at least test out different response modes.\n",
    "\n",
    "The default one is `ResponseMode.COMPACT`, that combines retrieved text chunks into larger pieces, to utilize the available context window. There are also plenty of other modes, and they may work best in some specific scenario. For example, some of the modes may make a separate LLM call per extracted text chunk, which may be beneficial in some cases, but also increase the cost of the pipeline.\n",
    "\n",
    "Let's just compare the previous response with the `ResponseMode.ACCUMULATE` and `ResponseMode.REFINE` modes. The first one should create a response for each chunk and the concatenate them, while the second one should make a separate LLM call for each chunk in an iterative manner. That means, each call will use the previous response as a context."
   ]
  },
  {
   "cell_type": "code",
   "execution_count": 17,
   "id": "bb47addbdc849fcf",
   "metadata": {
    "collapsed": false,
    "jupyter": {
     "outputs_hidden": false
    }
   },
   "outputs": [],
   "source": [
    "from llama_index.response_synthesizers import ResponseMode\n",
    "\n",
    "accumulate_response_synthesizer = get_response_synthesizer(\n",
    "    response_mode=ResponseMode.ACCUMULATE,\n",
    ")\n",
    "\n",
    "accumulate_query_engine = RetrieverQueryEngine(\n",
    "    retriever=retriever,\n",
    "    response_synthesizer=accumulate_response_synthesizer,\n",
    ")"
   ]
  },
  {
   "cell_type": "code",
   "execution_count": 18,
   "id": "d895eaf9f042fd22",
   "metadata": {
    "collapsed": false,
    "jupyter": {
     "outputs_hidden": false
    }
   },
   "outputs": [
    {
     "name": "stdout",
     "output_type": "stream",
     "text": [
      "Response 1: The best way to learn programming is to start by becoming proficient in a language like C++ and then gradually move on to working with microcontrollers like ESP8266 or ESP32. Beginning with simple projects in Arduino IDE can help in understanding how to integrate libraries and work with sensors and actuators. It's important to gain practical experience and gradually explore more complex projects to enhance programming skills.\n",
      "---------------------\n",
      "Response 2: The best way to learn programming is to dive in and start working on real projects. Find a problem that interests you and start building something to solve it. Experiment with different projects like creating an audio amplifier, building an Arduino robot, or tinkering with GPIO on a Raspberry Pi. Engaging in hands-on projects will help you understand how programming works in real-life scenarios and improve your skills effectively.\n",
      "---------------------\n",
      "Response 3: The best way to learn programming is to actively engage in hands-on projects and practice regularly, even if it means starting off with basic skills and making mistakes along the way. By consistently working on programming tasks, one can gradually improve their skills and understanding of how to code effectively.\n",
      "---------------------\n",
      "Response 4: The best way to learn programming is to start with courses or books that cover the basics of computer science in a simple and understandable manner. It is recommended to explore resources that are appropriate for beginners, especially for someone around the age of 16, to grasp the fundamental concepts without delving too deeply into complex math or algorithms. Platforms like edX offering courses like \"How to Code: Simple Data\" and \"How to Code: Complex Data,\" as well as books like the one available at htdp.org, can provide a good starting point for learning programming.\n",
      "---------------------\n",
      "Response 5: The best way to learn programming is to engage in hands-on practice and learn by doing.\n"
     ]
    }
   ],
   "source": [
    "response = accumulate_query_engine.query(\"What is the best way to learn programming?\")\n",
    "print(response.response)"
   ]
  },
  {
   "cell_type": "code",
   "execution_count": 19,
   "id": "c82c017459bfb664",
   "metadata": {
    "collapsed": false,
    "jupyter": {
     "outputs_hidden": false
    }
   },
   "outputs": [],
   "source": [
    "refine_response_synthesizer = get_response_synthesizer(\n",
    "    response_mode=ResponseMode.REFINE,\n",
    ")\n",
    "\n",
    "refine_query_engine = RetrieverQueryEngine(\n",
    "    retriever=retriever,\n",
    "    response_synthesizer=refine_response_synthesizer,\n",
    ")"
   ]
  },
  {
   "cell_type": "code",
   "execution_count": 20,
   "id": "e748b91db81b9336",
   "metadata": {
    "collapsed": false,
    "jupyter": {
     "outputs_hidden": false
    }
   },
   "outputs": [
    {
     "name": "stdout",
     "output_type": "stream",
     "text": [
      "The best way to learn programming is to start by becoming proficient in C++ development, especially if you are interested in embedded software. After gaining a solid foundation in C++, you can begin by working on simple projects using platforms like ESP8266 or ESP32 in the Arduino IDE. By experimenting with various sensors, actuators, and writing some basic code, you can gradually build your skills and understanding of programming for electronics. It is recommended to start with these simpler projects before moving on to more complex tasks that may require low-level C++ coding or exploring other programming frameworks like Lua, Micro Python, or JavaScript.\n"
     ]
    }
   ],
   "source": [
    "response = refine_query_engine.query(\"What is the best way to learn programming?\")\n",
    "print(response.response)"
   ]
  },
  {
   "cell_type": "markdown",
   "id": "235e641164884b02",
   "metadata": {
    "collapsed": false,
    "jupyter": {
     "outputs_hidden": false
    }
   },
   "source": [
    "## Multitenancy\n",
    "\n",
    "Most of the real applications require some sort of data separation. If you collect data coming from different users or organizations, you probably don't want to mix them up in the answers. Quite a common mistake, while using Qdrant, is to create a separate collection for each tenant. Instead, you can use the metadata field to separate the data. This field should have a payload index created, so the operations are fast. \n",
    "\n",
    "This is a Qdrant-specific feature, and the configuration is not done in LlamaIndex, but in Qdrant itself. However, we passed an instance of `QdrantClient` to the `QdrantVectorStore`, so we can use it to create a payload index for the metadata field.\n",
    "\n",
    "In our case, we can consider splitting the data by the type of the document. We have two types of documents in our collection: `story` and `comment`. We can use the `type` field to separate them."
   ]
  },
  {
   "cell_type": "code",
   "execution_count": 23,
   "id": "cb261d6fa91e727",
   "metadata": {
    "collapsed": false,
    "jupyter": {
     "outputs_hidden": false
    }
   },
   "outputs": [
    {
     "data": {
      "text/plain": [
       "UpdateResult(operation_id=474, status=<UpdateStatus.COMPLETED: 'completed'>)"
      ]
     },
     "execution_count": 23,
     "metadata": {},
     "output_type": "execute_result"
    }
   ],
   "source": [
    "from qdrant_client import models\n",
    "\n",
    "client.create_payload_index(\n",
    "    collection_name=\"hacker-news\",\n",
    "    field_name=\"type\",\n",
    "    field_schema=models.PayloadSchemaType.KEYWORD,\n",
    ")"
   ]
  },
  {
   "cell_type": "markdown",
   "id": "5077c72c40add0d3",
   "metadata": {
    "collapsed": false,
    "jupyter": {
     "outputs_hidden": false
    }
   },
   "source": [
    "Using the newly created payload index, we can filter the documents by type. That's why we wanted to customize the pipeline, so we can add this filter to the retriever."
   ]
  },
  {
   "cell_type": "code",
   "execution_count": 24,
   "id": "448493cd6c4d1c32",
   "metadata": {
    "collapsed": false,
    "jupyter": {
     "outputs_hidden": false
    }
   },
   "outputs": [],
   "source": [
    "from llama_index.vector_stores import MetadataFilters, MetadataFilter\n",
    "\n",
    "filtering_retriever = VectorIndexRetriever(\n",
    "    index=index,\n",
    "    similarity_top_k=5,\n",
    "    filters=MetadataFilters(\n",
    "        filters=[\n",
    "            MetadataFilter(key=\"type\", value=\"story\"),\n",
    "        ]\n",
    "    ),\n",
    ")\n",
    "\n",
    "filtering_query_engine = RetrieverQueryEngine(\n",
    "    retriever=filtering_retriever,\n",
    "    response_synthesizer=response_synthesizer,\n",
    ")"
   ]
  },
  {
   "cell_type": "code",
   "execution_count": 25,
   "id": "b4e00178a2746d09",
   "metadata": {
    "collapsed": false,
    "jupyter": {
     "outputs_hidden": false
    }
   },
   "outputs": [
    {
     "name": "stdout",
     "output_type": "stream",
     "text": [
      "For a 4/5 year old, the best way to learn programming is through visual and fun systems that can introduce the basics of programming in an engaging manner.\n"
     ]
    }
   ],
   "source": [
    "response = filtering_query_engine.query(\"What is the best way to learn programming?\")\n",
    "print(response.response)"
   ]
  },
  {
   "cell_type": "code",
   "execution_count": 26,
   "id": "3f05c4c83cf54647",
   "metadata": {
    "collapsed": false,
    "jupyter": {
     "outputs_hidden": false
    }
   },
   "outputs": [
    {
     "name": "stdout",
     "output_type": "stream",
     "text": [
      "1 Ask HN: Where do you go to find recommendations for physical programming books?\n",
      "\n",
      "I&#x27;m old school and like sitting down with a book both for learning actual coding and also for methodologies and philosophies. I don&#x27;t know where to go for recommendations. Any help? Thanks!\n",
      "\n",
      "2 Ask HN: What to learn in order to get a software job in a decent country?\n",
      "\n",
      "A good friend of mine is 18 and Russian. He is a programming prodigy and is trying to formulate a plan to get out. He&#x27;s thinking about his future CV and applying for jobs. What would be the best frameworks to invest time in getting experience with now?\n",
      "\n",
      "3 Ask HN: What is the best way to get into building electronics as a programmer?\n",
      "\n",
      "I am asking not only about learning what is taught in classes for solving ideal problems. I am talking about the real engineering like a hobbyist who actually understands what works in real life and how to build it properly.\n",
      "\n",
      "4 Ask HN: Best tools for 4/5 year old to learn programming?\n",
      "\n",
      "I&#x27;m looking for the best systems to help a 4&#x2F;5 year old get the basics of programming. My daughter has shown interest in what I do, and loves puzzles and building things. Looking for something visual and fun that can start her down the path of logic and creating with computers.<p>I have a passing familiarity with Scratch [1], which I&#x27;m now looking into more, but am hoping others can share their knowledge and experience in this area.<p>[1] https:&#x2F;&#x2F;scratch.mit.edu&#x2F;\n",
      "\n",
      "5 Ask HN: What is the best way to learn a new language?\n",
      "\n",
      "Is using a flashcard app like Anki the best way? Duolingo? Memrise? etc<p>For context, I was thinking of learning either Spanish, Dutch or Arabic\n",
      "\n"
     ]
    }
   ],
   "source": [
    "for i, node in enumerate(response.source_nodes):\n",
    "    print(i + 1, node.text, end=\"\\n\\n\")"
   ]
  },
  {
   "cell_type": "markdown",
   "id": "88f35208132ff94e",
   "metadata": {
    "collapsed": false,
    "jupyter": {
     "outputs_hidden": false
    }
   },
   "source": [
    "## Additional tweaks\n",
    "\n",
    "Some scenarios require different means than just semantic search. For example, if we want to prefer the most recent documents, none of the embedding models is going to capture it, since it is a cross-document relationship. LlamaIndex provides a way to add additional postprocessing, so we can include the additional constraints directly on the prefetched documents.\n"
   ]
  },
  {
   "cell_type": "code",
   "execution_count": 27,
   "id": "924db74f9afcb13f",
   "metadata": {
    "collapsed": false,
    "jupyter": {
     "outputs_hidden": false
    }
   },
   "outputs": [],
   "source": [
    "from llama_index.postprocessor import FixedRecencyPostprocessor\n",
    "\n",
    "prefetching_retriever = VectorIndexRetriever(\n",
    "    index=index,\n",
    "    similarity_top_k=25,  # prefetch way more documents\n",
    "    filters=MetadataFilters(\n",
    "        filters=[\n",
    "            MetadataFilter(key=\"type\", value=\"comment\"),  # we want comments this time\n",
    "        ]\n",
    "    ),\n",
    ")\n",
    "\n",
    "recency_query_engine = RetrieverQueryEngine(\n",
    "    retriever=prefetching_retriever,\n",
    "    response_synthesizer=response_synthesizer,\n",
    "    node_postprocessors=[\n",
    "        FixedRecencyPostprocessor(\n",
    "            service_context=service_context,\n",
    "            date_key=\"date\",  # date is the default key also, but make it explicit\n",
    "            top_k=5,  # leave just 20% of the prefetched documents\n",
    "        )\n",
    "    ]\n",
    ")"
   ]
  },
  {
   "cell_type": "code",
   "execution_count": 28,
   "id": "36f4611d9c0d262a",
   "metadata": {
    "collapsed": false,
    "jupyter": {
     "outputs_hidden": false
    }
   },
   "outputs": [
    {
     "name": "stdout",
     "output_type": "stream",
     "text": [
      "CS50 on YouTube is a great resource for learning programming. It is well taught, covers a lot of ground, has no prerequisites, and does not coddle its audience.\n"
     ]
    }
   ],
   "source": [
    "response = recency_query_engine.query(\"What is the best way to learn programming?\")\n",
    "print(response.response)"
   ]
  },
  {
   "cell_type": "code",
   "execution_count": 29,
   "id": "4c074064ccbfc715",
   "metadata": {
    "collapsed": false,
    "jupyter": {
     "outputs_hidden": false
    }
   },
   "outputs": [
    {
     "name": "stdout",
     "output_type": "stream",
     "text": [
      "1 Ask HN: Do you know a good course or book to learn CS basics for teens?\n",
      "\n",
      "A teen relative of mine is interested in computer science and wants to explore this path before going to college.<p>I need to recommend an overall learning experience for him that is appropriate for his age (around 16) and want him to understand the basics without getting too deep in math or algorithms, so he can get a good view of the field and understand the basics.<p>Have you came across a simple course, book or learning platform (preferably free) appropriate for beginners?<p>Thanks!\n",
      "\n",
      "I read this when I was a teen and liked it. It explains how computers work, and is still relevant 20 years later.<p><a href=\"https:&#x2F;&#x2F;en.wikipedia.org&#x2F;wiki&#x2F;Code:_The_Hidden_Language_of_Computer_Hardware_and_Software\" rel=\"nofollow\">https:&#x2F;&#x2F;en.wikipedia.org&#x2F;wiki&#x2F;Code:_The_Hidden_Language_of_C...</a>\n",
      "\n",
      "<i>Code</i> is a good motivator (and I need to buy a second copy, my copy was loaned out and then we both switched jobs, oops). A good follow-on is <i>The Elements of Computing Systems</i> (nand2tetris course) which starts with a more &quot;hands-on&quot; approach to the material in the second half of <i>Code</i>. &quot;hands-on&quot; because it&#x27;s all via simulations and idealized components, but it&#x27;s a good course and a motivated teen could work through it with some guidance or solo.\n",
      "\n",
      "2 Ask HN: What is the best way to get into building electronics as a programmer?\n",
      "\n",
      "I am asking not only about learning what is taught in classes for solving ideal problems. I am talking about the real engineering like a hobbyist who actually understands what works in real life and how to build it properly.\n",
      "\n",
      "For programmers, who know only one danger do not trunceate table on production database, I need to told for electronics beginner to make experiments with voltage below 36 Volts, please.\n",
      "\n",
      "3 Ask HN: Do you know a good course or book to learn CS basics for teens?\n",
      "\n",
      "A teen relative of mine is interested in computer science and wants to explore this path before going to college.<p>I need to recommend an overall learning experience for him that is appropriate for his age (around 16) and want him to understand the basics without getting too deep in math or algorithms, so he can get a good view of the field and understand the basics.<p>Have you came across a simple course, book or learning platform (preferably free) appropriate for beginners?<p>Thanks!\n",
      "\n",
      "I read this when I was a teen and liked it. It explains how computers work, and is still relevant 20 years later.<p><a href=\"https:&#x2F;&#x2F;en.wikipedia.org&#x2F;wiki&#x2F;Code:_The_Hidden_Language_of_Computer_Hardware_and_Software\" rel=\"nofollow\">https:&#x2F;&#x2F;en.wikipedia.org&#x2F;wiki&#x2F;Code:_The_Hidden_Language_of_C...</a>\n",
      "\n",
      "4 Ask HN: Do you know a good course or book to learn CS basics for teens?\n",
      "\n",
      "A teen relative of mine is interested in computer science and wants to explore this path before going to college.<p>I need to recommend an overall learning experience for him that is appropriate for his age (around 16) and want him to understand the basics without getting too deep in math or algorithms, so he can get a good view of the field and understand the basics.<p>Have you came across a simple course, book or learning platform (preferably free) appropriate for beginners?<p>Thanks!\n",
      "\n",
      "On edx:<p>How to Code: Simple Data<p>How to Code: Complex Data<p>There is also a book at <a href=\"https:&#x2F;&#x2F;htdp.org\" rel=\"nofollow\">https:&#x2F;&#x2F;htdp.org</a>\n",
      "\n",
      "5 Ask HN: Do you know a good course or book to learn CS basics for teens?\n",
      "\n",
      "A teen relative of mine is interested in computer science and wants to explore this path before going to college.<p>I need to recommend an overall learning experience for him that is appropriate for his age (around 16) and want him to understand the basics without getting too deep in math or algorithms, so he can get a good view of the field and understand the basics.<p>Have you came across a simple course, book or learning platform (preferably free) appropriate for beginners?<p>Thanks!\n",
      "\n",
      "CS50 on youtube is great - well taught, covers a lot of ground, no prerequisites, doesn&#x27;t coddle its audience.\n",
      "\n"
     ]
    }
   ],
   "source": [
    "for i, node in enumerate(response.source_nodes):\n",
    "    print(i + 1, node.text, end=\"\\n\\n\")"
   ]
  },
  {
   "cell_type": "code",
   "execution_count": 30,
   "id": "bf76ad82f0d270bb",
   "metadata": {
    "collapsed": false,
    "jupyter": {
     "outputs_hidden": false
    }
   },
   "outputs": [],
   "source": [
    "from llama_index.postprocessor import EmbeddingRecencyPostprocessor\n",
    "\n",
    "embedding_recency_query_engine = RetrieverQueryEngine(\n",
    "    retriever=prefetching_retriever,\n",
    "    response_synthesizer=response_synthesizer,\n",
    "    node_postprocessors=[\n",
    "        EmbeddingRecencyPostprocessor(\n",
    "            service_context=service_context,\n",
    "            date_key=\"date\",  # date is the default key\n",
    "            similarity_cutoff=0.9,\n",
    "        )\n",
    "    ]\n",
    ")"
   ]
  },
  {
   "cell_type": "code",
   "execution_count": null,
   "id": "33ea0ba3f3d10b13",
   "metadata": {
    "collapsed": false,
    "jupyter": {
     "outputs_hidden": false
    }
   },
   "outputs": [],
   "source": [
    "response = embedding_recency_query_engine.query(\"What is the best way to learn programming?\")\n",
    "print(response.response)"
   ]
  },
  {
   "cell_type": "code",
   "execution_count": null,
   "id": "3cbe86011e834e79",
   "metadata": {
    "collapsed": false,
    "jupyter": {
     "outputs_hidden": false
    }
   },
   "outputs": [],
   "source": [
    "for i, node in enumerate(response.source_nodes):\n",
    "    print(i + 1, node.text, end=\"\\n\\n\")"
   ]
  },
  {
   "cell_type": "code",
   "execution_count": null,
   "id": "620de1ff4231ef30",
   "metadata": {
    "collapsed": false,
    "jupyter": {
     "outputs_hidden": false
    }
   },
   "outputs": [],
   "source": []
  }
 ],
 "metadata": {
  "kernelspec": {
   "display_name": "Python 3 (ipykernel)",
   "language": "python",
   "name": "python3"
  },
  "language_info": {
   "codemirror_mode": {
    "name": "ipython",
    "version": 3
   },
   "file_extension": ".py",
   "mimetype": "text/x-python",
   "name": "python",
   "nbconvert_exporter": "python",
   "pygments_lexer": "ipython3",
   "version": "3.11.4"
  }
 },
 "nbformat": 4,
 "nbformat_minor": 5
}
